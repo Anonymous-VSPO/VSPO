{
 "cells": [
  {
   "cell_type": "code",
   "execution_count": null,
   "id": "9cdb5905",
   "metadata": {},
   "outputs": [],
   "source": [
    "with open(\"C_example.txt\", \"r\") as file:\n",
    "\tC_example = file.read()\n",
    "with open(\"P_example.txt\", \"r\") as file:\n",
    "  P_example = file.read()\n",
    "def init_template(type, example):\n",
    "    return {\n",
    "    \"custom_id\": None, \n",
    "    \"method\": \"POST\", \n",
    "    \"url\": \"/v1/chat/completions\",\n",
    "    \"body\": {\"model\": \"gpt-4.1\", \n",
    "             \"messages\": \n",
    "                 [{\"role\": \"system\", \"content\": f\"\"\"\n",
    "                   You are a helpful Ontology engineer. \n",
    "                   Generate a {type} description including information of axioms and current description. \n",
    "                   The description should be concise and informative, providing a clear understanding of the {type}'s purpose and characteristics.\n",
    "                   Don't generate unnecessary text. Just generate {type} description only.\"\"\"},\n",
    "                   {\"role\": \"user\", \"content\": f\"\"\"\n",
    "                   Generate a {type} description including information of axioms and current description. \n",
    "                   If there is no description, generate a description based on the axiom.\"\"\"},\n",
    "                   {\"role\": \"user\", \"content\": \"For example, \"+example},\n",
    "                   {\"role\": \"user\", \"content\": \"Now, generate the description using class axiom and current description below.\"}\n",
    "                  ],\n",
    "             \"max_tokens\": 1024 \n",
    "             }\n",
    "    }"
   ]
  },
  {
   "cell_type": "code",
   "execution_count": null,
   "id": "35669d04",
   "metadata": {},
   "outputs": [
    {
     "name": "stdout",
     "output_type": "stream",
     "text": [
      "{'event': {'description': 'Ontology_description/event_description.json', 'axiom': 'Axiom_per_entity/event_axiom.json'}, 'stuff': {'description': 'Ontology_description/stuff_description.json', 'axiom': 'Axiom_per_entity/stuff_axiom.json'}, 'OntoDT': {'description': 'Ontology_description/OntoDT_description.json', 'axiom': 'Axiom_per_entity/OntoDT_axiom.json'}, 'time': {'description': 'Ontology_description/time_description.json', 'axiom': 'Axiom_per_entity/time_axiom.json'}, 'AfricanWildlifeOntology1': {'description': 'Ontology_description/AfricanWildlifeOntology1_description.json', 'axiom': 'Axiom_per_entity/AfricanWildlifeOntology1_axiom.json'}, 'pizza': {'description': 'Ontology_description/pizza_description.json', 'axiom': 'Axiom_per_entity/pizza_axiom.json'}, 'swo': {'description': 'Ontology_description/swo_merged_description.json', 'axiom': 'Axiom_per_entity/swo_merged_axiom.json'}, 'exchangemodel': {'description': 'Ontology_description/exchangemodel_description.json', 'axiom': 'Axiom_per_entity/exchangemodel_axiom.json'}, 'home': {'description': 'Ontology_description/home_description.json', 'axiom': 'Axiom_per_entity/home_axiom.json'}, 'lab': {'description': 'Ontology_description/lab_description.json', 'axiom': 'Axiom_per_entity/lab_axiom.json'}}\n"
     ]
    }
   ],
   "source": [
    "import os\n",
    "directory_path = \"Ontology_description\"\n",
    "ontology_list = {file.split(\"_\")[0]: {\"description\":os.path.join(directory_path, file)} for file in os.listdir(directory_path)}\n",
    "for file in os.listdir(\"Axiom_per_entity\"):\n",
    "    ontology_list[file.split(\"_\")[0]][\"axiom\"]=os.path.join(\"Axiom_per_entity\", file)"
   ]
  },
  {
   "cell_type": "code",
   "execution_count": null,
   "id": "13618013",
   "metadata": {},
   "outputs": [
    {
     "name": "stdout",
     "output_type": "stream",
     "text": [
      "Ontology name: event, 122 classes\n",
      "Ontology name: event, 14 properties\n",
      "Ontology name: event, Number of batches: 136\n",
      "Ontology name: stuff, 61 classes\n",
      "Ontology name: stuff, 33 properties\n",
      "Ontology name: stuff, Number of batches: 94\n",
      "Ontology name: OntoDT, 402 classes\n",
      "Ontology name: OntoDT, 17 properties\n",
      "Ontology name: OntoDT, Number of batches: 419\n",
      "Ontology name: time, 11 classes\n",
      "Ontology name: time, 41 properties\n",
      "Ontology name: time, Number of batches: 52\n",
      "Ontology name: AfricanWildlifeOntology1, 27 classes\n",
      "Ontology name: AfricanWildlifeOntology1, 5 properties\n",
      "Ontology name: AfricanWildlifeOntology1, Number of batches: 32\n",
      "Ontology name: pizza, 99 classes\n",
      "Ontology name: pizza, 8 properties\n",
      "Ontology name: pizza, Number of batches: 107\n",
      "Ontology name: swo, 490 classes\n",
      "Ontology name: swo, 10 properties\n",
      "Ontology name: swo, Number of batches: 500\n",
      "Ontology name: exchangemodel, 16 classes\n",
      "Ontology name: exchangemodel, 12 properties\n",
      "Ontology name: exchangemodel, Number of batches: 28\n",
      "Ontology name: home, 41 classes\n",
      "Ontology name: home, 39 properties\n",
      "Ontology name: home, Number of batches: 80\n",
      "Ontology name: lab, 65 classes\n",
      "Ontology name: lab, 50 properties\n",
      "Ontology name: lab, Number of batches: 115\n",
      "Total number of batches: 1563\n"
     ]
    }
   ],
   "source": [
    "import json\n",
    "from copy import deepcopy\n",
    "import random\n",
    "data_num = 0\n",
    "for ontology in ontology_list:\n",
    "    batches = []\n",
    "    cls_num, pro_num = 0, 0\n",
    "    with open(ontology_list[ontology][\"description\"], \"r\") as f:\n",
    "        temp_desc=json.load(f)\n",
    "    with open(ontology_list[ontology][\"axiom\"], \"r\") as f:\n",
    "        temp_axiom=json.load(f)\n",
    "    for cls in temp_axiom[\"classes\"]:\n",
    "        temp = deepcopy(init_template(\"class\", C_example))\n",
    "        temp[\"body\"][\"messages\"].append({\"role\": \"user\", \"content\": \"Class name: \"+cls})\n",
    "        temp[\"custom_id\"] = ontology+\"_\"+cls\n",
    "        temp[\"body\"][\"messages\"].append({\"role\": \"user\", \"content\": \"Axiom: \"+str(temp_axiom[\"classes\"][cls])})\n",
    "        if cls in temp_desc[\"classes\"]: temp[\"body\"][\"messages\"].append({\"role\": \"user\", \"content\": \"Current description: \"+str(temp_desc[\"classes\"][cls])})\n",
    "        temp[\"body\"][\"messages\"].append({\"role\": \"user\", \"content\": \"Generated description: \"})\n",
    "        batches.append(temp)\n",
    "    cls_num=len(batches)\n",
    "    print(f\"Ontology name: {ontology}, {cls_num} classes\")\n",
    "    for prop in temp_axiom[\"properties\"]:\n",
    "        temp = deepcopy(init_template(\"property\", P_example))\n",
    "        temp[\"body\"][\"messages\"].append({\"role\": \"user\", \"content\": \"Property name: \"+prop})\n",
    "        temp[\"custom_id\"] = ontology+\"_\"+prop\n",
    "        temp[\"body\"][\"messages\"].append({\"role\": \"user\", \"content\": \"Axiom: \"+str(temp_axiom[\"properties\"][prop])})\n",
    "        if prop in temp_desc[\"properties\"]: temp[\"body\"][\"messages\"].append({\"role\": \"user\", \"content\": \"Current description: \"+str(temp_desc[\"properties\"][prop])})\n",
    "        temp[\"body\"][\"messages\"].append({\"role\": \"user\", \"content\": \"Generated description: \"})\n",
    "        pro_num+=1\n",
    "        batches.append(temp)\n",
    "    \n",
    "    pro_num=len(batches)-cls_num\n",
    "    print(f\"Ontology name: {ontology}, {pro_num} properties\")\n",
    "    # Save the batches to a JSONL file\n",
    "    with open(\"Batchinput/\"+ontology+'_batchinput.jsonl', 'w', encoding='utf-8') as file:\n",
    "        for item in batches:\n",
    "            json_string = json.dumps(item, ensure_ascii=False)\n",
    "            file.write(json_string + '\\n')\n",
    "    print(f\"Ontology name: {ontology}, Number of batches: {len(batches)}\")\n",
    "    data_num += len(batches)\n",
    "print(f\"Total number of batches: {data_num}\")\n",
    "    \n",
    "    "
   ]
  },
  {
   "cell_type": "code",
   "execution_count": null,
   "id": "6400c19f",
   "metadata": {
    "vscode": {
     "languageId": "ruby"
    }
   },
   "outputs": [
    {
     "name": "stdout",
     "output_type": "stream",
     "text": [
      "Skipping non-JSONL file: OntoDT_batchinput.jsonl\n",
      "Skipping non-JSONL file: event_batchinput.jsonl\n",
      "Skipping non-JSONL file: swo_batchinput.jsonl\n",
      "Skipping non-JSONL file: home_batchinput.jsonl\n",
      "Skipping non-JSONL file: lab_batchinput.jsonl\n",
      "Skipping non-JSONL file: AfricanWildlifeOntology1_batchinput.jsonl\n",
      "Skipping non-JSONL file: time_batchinput.jsonl\n",
      "Skipping non-JSONL file: exchangemodel_batchinput.jsonl\n",
      "Skipping non-JSONL file: pizza_batchinput.jsonl\n"
     ]
    }
   ],
   "source": [
    "from openai import OpenAI\n",
    "import time\n",
    "client = OpenAI(api_key=\"\")\n",
    "\n",
    "for ontology in os.listdir(\"Batchinput\"):\n",
    "  if ontology.endswith(\"stuff_batchinput.jsonl\"):\n",
    "    with open(os.path.join(\"Batchinput\", ontology), \"rb\") as file:\n",
    "      batch_input_file = client.files.create(\n",
    "        file=file, \n",
    "        purpose=\"batch\"\n",
    "      )\n",
    "    batch_input_file_id = batch_input_file.id\n",
    "\n",
    "# Create a batch job\n",
    "    client.batches.create(\n",
    "      input_file_id=batch_input_file_id,\n",
    "      endpoint=\"/v1/chat/completions\",\n",
    "      completion_window=\"24h\", \n",
    "            )\n",
    "  else:\n",
    "    print(f\"Skipping non-JSONL file: {ontology}\")\n"
   ]
  },
  {
   "cell_type": "code",
   "execution_count": 37,
   "id": "f3b58844",
   "metadata": {},
   "outputs": [
    {
     "name": "stdout",
     "output_type": "stream",
     "text": [
      "Loaded 94 records from 1 JSONL files.\n"
     ]
    }
   ],
   "source": [
    "import os\n",
    "import json\n",
    "\n",
    "batchoutput_directory = \"Batchoutput\"\n",
    "jsonl_files = [file for file in os.listdir(batchoutput_directory) if file.endswith(\".jsonl\")]\n",
    "\n",
    "for jsonl_file in jsonl_files:\n",
    "    loaded_data = []\n",
    "    file_path = os.path.join(batchoutput_directory, jsonl_file)\n",
    "    with open(file_path, \"r\", encoding=\"utf-8\") as f:\n",
    "        for line in f:\n",
    "            temp_data = json.loads(line)\n",
    "            temp_out = {\"class\": temp_data[\"custom_id\"].split(\"_\",1)[1], \"description\": temp_data[\"response\"][\"body\"][\"choices\"][0][\"message\"][\"content\"]}\n",
    "            loaded_data.append(temp_out)\n",
    "    # Save the loaded data to a new jsonl file\n",
    "    output_file_path = os.path.join(\"generated description\", f\"{jsonl_file}\")\n",
    "    with open(output_file_path, \"w\", encoding=\"utf-8\") as f:\n",
    "        for item in loaded_data:\n",
    "            json_string = json.dumps(item, ensure_ascii=False)\n",
    "            f.write(json_string + '\\n')\n",
    "    print(f\"Loaded {len(loaded_data)} records from {len(jsonl_files)} JSONL files.\")"
   ]
  },
  {
   "cell_type": "code",
   "execution_count": null,
   "id": "a52257ff",
   "metadata": {},
   "outputs": [],
   "source": []
  }
 ],
 "metadata": {
  "kernelspec": {
   "display_name": "hyojun_LLM",
   "language": "python",
   "name": "python3"
  },
  "language_info": {
   "codemirror_mode": {
    "name": "ipython",
    "version": 3
   },
   "file_extension": ".py",
   "mimetype": "text/x-python",
   "name": "python",
   "nbconvert_exporter": "python",
   "pygments_lexer": "ipython3",
   "version": "3.10.14"
  }
 },
 "nbformat": 4,
 "nbformat_minor": 5
}
