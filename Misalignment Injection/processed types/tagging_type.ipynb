{
 "cells": [
  {
   "cell_type": "code",
   "execution_count": 1,
   "id": "e8bd988b",
   "metadata": {},
   "outputs": [],
   "source": [
    "import json\n",
    "\n",
    "# Load JSON files\n",
    "for i in range(1, 5):\n",
    "    file_name = f\"Final_type{i}.json\"\n",
    "    with open(file_name, 'r', encoding = \"utf-8\") as file:\n",
    "        data = json.load(file)\n",
    "    for ontology in data:\n",
    "        for classorproperty in data[ontology]:\n",
    "            for cp in data[ontology][classorproperty]:\n",
    "                data[ontology][classorproperty][cp][\"type\"] = \"Type\" + str(i)\n",
    "    # Save the modified data back to the file\n",
    "    with open(file_name, 'w') as file:\n",
    "        json.dump(data, file, indent=4, ensure_ascii=False)\n",
    "# final_data now contains the loaded data from all files"
   ]
  },
  {
   "cell_type": "code",
   "execution_count": null,
   "id": "500559ae",
   "metadata": {},
   "outputs": [],
   "source": []
  }
 ],
 "metadata": {
  "kernelspec": {
   "display_name": "hyojun_LLM",
   "language": "python",
   "name": "python3"
  },
  "language_info": {
   "codemirror_mode": {
    "name": "ipython",
    "version": 3
   },
   "file_extension": ".py",
   "mimetype": "text/x-python",
   "name": "python",
   "nbconvert_exporter": "python",
   "pygments_lexer": "ipython3",
   "version": "3.10.14"
  }
 },
 "nbformat": 4,
 "nbformat_minor": 5
}
