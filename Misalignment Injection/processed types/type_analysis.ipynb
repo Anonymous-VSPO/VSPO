{
 "cells": [
  {
   "cell_type": "code",
   "execution_count": 1,
   "id": "2c5f5cf2",
   "metadata": {},
   "outputs": [
    {
     "name": "stdout",
     "output_type": "stream",
     "text": [
      "Number of disjoint classes removed: 61\n",
      "Number of inverse properties removed: 19\n"
     ]
    }
   ],
   "source": [
    "import json\n",
    "\n",
    "# Load the JSON file\n",
    "with open('Final_type1.json', 'r') as file:\n",
    "    data = json.load(file)\n",
    "\n",
    "disjoint_num = 0\n",
    "inverse_num = 0\n",
    "for ontology in data:\n",
    "    for cls in data[ontology]['classes']:\n",
    "        if \"disjoint\" in data[ontology]['classes'][cls][\"removed axiom\"]: \n",
    "            disjoint_num += 1\n",
    "    for prop in data[ontology]['properties']:\n",
    "        if \"inverseOf\" in data[ontology]['properties'][prop][\"removed axiom\"]: \n",
    "            inverse_num += 1\n",
    "print(\"Number of disjoint classes removed:\", disjoint_num)\n",
    "print(\"Number of inverse properties removed:\", inverse_num)\n",
    "            "
   ]
  },
  {
   "cell_type": "code",
   "execution_count": 2,
   "id": "e4dc1b30",
   "metadata": {},
   "outputs": [
    {
     "name": "stdout",
     "output_type": "stream",
     "text": [
      "Number of some/only classes removed: 169\n",
      "Number of and/or classes removed: 62\n"
     ]
    }
   ],
   "source": [
    "with open('Final_type3.json', 'r') as file:\n",
    "    data = json.load(file)\n",
    "someonly_num = 0\n",
    "andor_num = 0\n",
    "for ontology in data:\n",
    "    for cls in data[ontology]['classes']:\n",
    "        andor_flag, someonly_flag = False, False\n",
    "        for i, word in enumerate(data[ontology]['classes'][cls][\"removed axiom\"].split()):\n",
    "            if word == \"and\" and data[ontology]['classes'][cls][\"editted axiom\"].split()[i] == \"or\": andor_flag = True\n",
    "            if word == \"or\" and data[ontology]['classes'][cls][\"editted axiom\"].split()[i] == \"and\": andor_flag = True\n",
    "            if word == \"some\" and data[ontology]['classes'][cls][\"editted axiom\"].split()[i] == \"only\": someonly_flag = True\n",
    "            if word == \"only\" and data[ontology]['classes'][cls][\"editted axiom\"].split()[i] == \"some\": someonly_flag = True\n",
    "        if andor_flag: andor_num += 1\n",
    "        if someonly_flag: someonly_num += 1\n",
    "    for prop in data[ontology]['properties']:\n",
    "        for i, word in enumerate(data[ontology]['properties'][prop][\"removed axiom\"].split()):\n",
    "            if word == \"and\" and data[ontology]['properties'][prop][\"editted axiom\"].split()[i] == \"or\": andor_flag = True\n",
    "            if word == \"or\" and data[ontology]['properties'][prop][\"editted axiom\"].split()[i] == \"and\": andor_flag = True\n",
    "            if word == \"some\" and data[ontology]['properties'][prop][\"editted axiom\"].split()[i] == \"only\": someonly_flag = True\n",
    "            if word == \"only\" and data[ontology]['properties'][prop][\"editted axiom\"].split()[i] == \"some\": someonly_flag = True\n",
    "        if andor_flag: andor_num += 1\n",
    "        if someonly_flag: someonly_num += 1\n",
    "print(\"Number of some/only classes removed:\", someonly_num)\n",
    "print(\"Number of and/or classes removed:\", andor_num)"
   ]
  },
  {
   "cell_type": "code",
   "execution_count": null,
   "id": "d729236d",
   "metadata": {},
   "outputs": [],
   "source": []
  }
 ],
 "metadata": {
  "kernelspec": {
   "display_name": "hyojun_LLM",
   "language": "python",
   "name": "python3"
  },
  "language_info": {
   "codemirror_mode": {
    "name": "ipython",
    "version": 3
   },
   "file_extension": ".py",
   "mimetype": "text/x-python",
   "name": "python",
   "nbconvert_exporter": "python",
   "pygments_lexer": "ipython3",
   "version": "3.10.14"
  }
 },
 "nbformat": 4,
 "nbformat_minor": 5
}
