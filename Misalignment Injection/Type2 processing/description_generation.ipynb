{
 "cells": [
  {
   "cell_type": "code",
   "execution_count": null,
   "id": "9cdb5905",
   "metadata": {},
   "outputs": [],
   "source": [
    "with open(\"C_example.txt\", \"r\") as file:\n",
    "\tC_example = file.read()\n",
    "with open(\"P_example.txt\", \"r\") as file:\n",
    "  P_example = file.read()\n",
    "def init_template(type, example):\n",
    "    return {\n",
    "    \"custom_id\": None, \n",
    "    \"method\": \"POST\", \n",
    "    \"url\": \"/v1/chat/completions\",\n",
    "    \"body\": {\"model\": \"gpt-4.1\", \n",
    "             \"messages\": \n",
    "                 [{\"role\": \"system\", \"content\": f\"\"\"\n",
    "                   You are a helpful Ontology engineer. \n",
    "                   Generate a {type} description including information of axioms. \n",
    "                   The description should be concise and informative, providing a clear understanding of the {type}'s purpose and characteristics.\n",
    "                   Don't generate unnecessary text. Just generate {type} description only.\"\"\"},\n",
    "                   {\"role\": \"user\", \"content\": f\"\"\"\n",
    "                   Generate a {type} description including information of axioms. \n",
    "                   If there is no description, generate a description based on the axiom.\"\"\"},\n",
    "                   {\"role\": \"user\", \"content\": \"For example, \"+example},\n",
    "                   {\"role\": \"user\", \"content\": \"Now, generate the description using class axiom below.\"}\n",
    "                  ],\n",
    "             \"max_tokens\": 1024 \n",
    "             }\n",
    "    }"
   ]
  },
  {
   "cell_type": "code",
   "execution_count": null,
   "id": "35669d04",
   "metadata": {},
   "outputs": [],
   "source": [
    "import os\n",
    "directory_path = \"Ontology_description\"\n",
    "ontology_list = {file.split(\"_\")[0]: {\"description\":os.path.join(directory_path, file)} for file in os.listdir(directory_path)}\n",
    "print(ontology_list.keys())"
   ]
  },
  {
   "cell_type": "code",
   "execution_count": null,
   "id": "13618013",
   "metadata": {},
   "outputs": [],
   "source": [
    "import json\n",
    "from copy import deepcopy\n",
    "import random\n",
    "data_num = 0\n",
    "batches = []\n",
    "for ontology in ontology_list:\n",
    "    with open(\"processed_type2.json\", \"r\") as f:\n",
    "        temp_axiom=json.load(f)[ontology]\n",
    "    for cls in temp_axiom[\"classes\"]:\n",
    "        temp = deepcopy(init_template(\"class\", C_example))\n",
    "        temp[\"body\"][\"messages\"].append({\"role\": \"user\", \"content\": \"Class name: \"+cls})\n",
    "        temp[\"custom_id\"] = ontology+\"_\"+cls\n",
    "        temp[\"body\"][\"messages\"].append({\"role\": \"user\", \"content\": \"Axiom: \"+str(temp_axiom[\"classes\"][cls][\"axiom\"])})\n",
    "        temp[\"body\"][\"messages\"].append({\"role\": \"user\", \"content\": \"Generated description: \"})\n",
    "        batches.append(temp)\n",
    "    for prop in temp_axiom[\"properties\"]:\n",
    "        temp = deepcopy(init_template(\"property\", P_example))\n",
    "        temp[\"body\"][\"messages\"].append({\"role\": \"user\", \"content\": \"Property name: \"+prop})\n",
    "        temp[\"custom_id\"] = ontology+\"_\"+prop\n",
    "        temp[\"body\"][\"messages\"].append({\"role\": \"user\", \"content\": \"Axiom: \"+str(temp_axiom[\"properties\"][prop][\"axiom\"])})\n",
    "        temp[\"body\"][\"messages\"].append({\"role\": \"user\", \"content\": \"Generated description: \"})\n",
    "        batches.append(temp)\n",
    "    data_num += len(batches)\n",
    "# Save the batches to a JSONL file\n",
    "with open(\"Batchinput.jsonl\", 'w', encoding='utf-8') as file:\n",
    "    for item in batches:\n",
    "        json_string = json.dumps(item, ensure_ascii=False)\n",
    "        file.write(json_string + '\\n')\n",
    "    print(f\"Ontology name: {ontology}, Number of batches: {len(batches)}\")\n",
    "print(f\"Total number of batches: {data_num}\")\n",
    "    \n",
    "    "
   ]
  },
  {
   "cell_type": "code",
   "execution_count": null,
   "id": "6400c19f",
   "metadata": {
    "vscode": {
     "languageId": "ruby"
    }
   },
   "outputs": [
    {
     "data": {
      "text/plain": [
       "Batch(id='batch_681b4770ef9481908d94253e31aa5e7b', completion_window='24h', created_at=1746618224, endpoint='/v1/chat/completions', input_file_id='file-BKQvPTHkNWQCVBXKwp4kpc', object='batch', status='validating', cancelled_at=None, cancelling_at=None, completed_at=None, error_file_id=None, errors=None, expired_at=None, expires_at=1746704624, failed_at=None, finalizing_at=None, in_progress_at=None, metadata=None, output_file_id=None, request_counts=BatchRequestCounts(completed=0, failed=0, total=0))"
      ]
     },
     "execution_count": 4,
     "metadata": {},
     "output_type": "execute_result"
    }
   ],
   "source": [
    "from openai import OpenAI\n",
    "import time\n",
    "client = OpenAI(api_key=\"\")\n",
    "\n",
    "\n",
    "with open(\"Batchinput.jsonl\", \"rb\") as file:\n",
    "  batch_input_file = client.files.create(\n",
    "    file=file, \n",
    "    purpose=\"batch\"\n",
    "  )\n",
    "batch_input_file_id = batch_input_file.id\n",
    "\n",
    "# Create a batch job\n",
    "client.batches.create(\n",
    "  input_file_id=batch_input_file_id,\n",
    "  endpoint=\"/v1/chat/completions\",\n",
    "  completion_window=\"24h\", \n",
    "        )\n"
   ]
  },
  {
   "cell_type": "code",
   "execution_count": null,
   "id": "f3b58844",
   "metadata": {},
   "outputs": [],
   "source": [
    "import os\n",
    "import json\n",
    "\n",
    "jsonl_files = [\"Batchoutput.jsonl\"]\n",
    "\n",
    "for jsonl_file in jsonl_files:\n",
    "    loaded_data = []\n",
    "    with open(jsonl_file, \"r\", encoding=\"utf-8\") as f:\n",
    "        for line in f:\n",
    "            temp_data = json.loads(line)\n",
    "            temp_out = {\"class\": temp_data[\"custom_id\"].split(\"_\",1)[1], \"description\": temp_data[\"response\"][\"body\"][\"choices\"][0][\"message\"][\"content\"]}\n",
    "            loaded_data.append(temp_out)\n",
    "    # Save the loaded data to a new JSONL file\n",
    "    with open(\"Generated_description.jsonl\", \"w\", encoding=\"utf-8\") as f:\n",
    "        for item in loaded_data:\n",
    "            json_string = json.dumps(item, ensure_ascii=False)\n",
    "            f.write(json_string + '\\n')"
   ]
  },
  {
   "cell_type": "code",
   "execution_count": 6,
   "id": "a52257ff",
   "metadata": {},
   "outputs": [],
   "source": [
    "import json\n",
    "with open(\"processed_type2.json\", \"r\", encoding=\"utf-8\") as outfile:\n",
    "    total_type2 = json.load(outfile)\n",
    "with open(\"Generated_description.jsonl\", \"r\", encoding=\"utf-8\") as f:\n",
    "    temp_desc = {}\n",
    "    for line in f:\n",
    "        loadfile = json.loads(line)\n",
    "        temp_desc[loadfile[\"class\"]] = loadfile[\"description\"]\n",
    "for ontology in total_type2:\n",
    "    for cls in total_type2[ontology][\"classes\"]:\n",
    "        total_type2[ontology][\"classes\"][cls][\"description\"] = temp_desc[cls]\n",
    "    for prop in total_type2[ontology][\"properties\"]:\n",
    "        total_type2[ontology][\"properties\"][prop][\"description\"] = temp_desc[prop]\n",
    "with open(\"type2_description_update.json\", \"w\", encoding=\"utf-8\") as outfile:\n",
    "    json.dump(total_type2, outfile, ensure_ascii=False, indent=4)"
   ]
  },
  {
   "cell_type": "code",
   "execution_count": 7,
   "id": "4e8ea2aa",
   "metadata": {},
   "outputs": [],
   "source": [
    "import json\n",
    "\n",
    "# List of axiom predicates to look for\n",
    "axiom_relations = [\n",
    "    \"subClassOf\", \"equivalentClass\", \"propertyRestrictions\",\n",
    "    \"disjointWith\", \"subPropertyOf\", \"domain\", \"range\",\n",
    "    \"characteristics\", \"inverseOf\"\n",
    "]\n",
    "\n",
    "def restore_removed_axioms(input_path='type2_description_update.json', output_path='Final_type2.json'):\n",
    "    # 1. Load the processed data\n",
    "    with open(input_path, 'r', encoding='utf-8') as f:\n",
    "        data = json.load(f)\n",
    "\n",
    "    # 2. Traverse each ontology, classes and properties\n",
    "    for ontology in data.values():\n",
    "        for section in ('classes', 'properties'):\n",
    "            for name, info in ontology.get(section, {}).items():\n",
    "                removed = info.get('removed axiom')\n",
    "                if not removed:\n",
    "                    continue\n",
    "\n",
    "                # find predicate\n",
    "                predicate = next((rel for rel in axiom_relations if f\" {rel} \" in removed), None)\n",
    "                if predicate is None:\n",
    "                    continue\n",
    "\n",
    "                # split into subject and expression\n",
    "                _, expr = removed.split(f\" {predicate} \", 1)\n",
    "                expr = expr.strip()\n",
    "\n",
    "                # restore into info['axiom'][predicate]\n",
    "                ax = info.setdefault('axiom', {})\n",
    "                current = ax.setdefault(predicate, [])\n",
    "                if isinstance(current, list) and expr not in current:\n",
    "                    current.append(expr)\n",
    "\n",
    "    # 3. Write out the restored file\n",
    "    with open(output_path, 'w', encoding='utf-8') as f:\n",
    "        json.dump(data, f, ensure_ascii=False, indent=2)\n",
    "\n",
    "# Example usage:\n",
    "restore_removed_axioms(\n",
    "    input_path='type2_description_update.json',\n",
    "    output_path='Final_type2.json'\n",
    ")\n"
   ]
  },
  {
   "cell_type": "code",
   "execution_count": null,
   "id": "2df72c68",
   "metadata": {},
   "outputs": [],
   "source": []
  }
 ],
 "metadata": {
  "kernelspec": {
   "display_name": "hyojun_LLM",
   "language": "python",
   "name": "python3"
  },
  "language_info": {
   "codemirror_mode": {
    "name": "ipython",
    "version": 3
   },
   "file_extension": ".py",
   "mimetype": "text/x-python",
   "name": "python",
   "nbconvert_exporter": "python",
   "pygments_lexer": "ipython3",
   "version": "3.10.14"
  }
 },
 "nbformat": 4,
 "nbformat_minor": 5
}
