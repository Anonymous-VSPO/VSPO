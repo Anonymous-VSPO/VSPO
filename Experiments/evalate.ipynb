{
 "cells": [
  {
   "cell_type": "code",
   "execution_count": null,
   "id": "5b9be18f",
   "metadata": {},
   "outputs": [],
   "source": [
    "from evaluation import eval_result"
   ]
  },
  {
   "cell_type": "code",
   "execution_count": 5,
   "id": "1a34db02",
   "metadata": {},
   "outputs": [],
   "source": [
    "import json\n",
    "\n",
    "base_model_path = \"vanila/base_outputs.jsonl\"\n",
    "trained_model_path = \"vanila/trained_outputs.jsonl\"\n",
    "\n",
    "with open(base_model_path, 'r') as f:\n",
    "    base_model_outputs = [json.loads(line) for line in f]\n",
    "\n",
    "with open(trained_model_path, 'r') as f:\n",
    "    trained_model_outputs = [json.loads(line) for line in f]\n",
    "\n",
    "GPT4_1_path = \"GPT/parsed_GPT_4_1_outputs.jsonl\"\n",
    "gold_path = \"test_dataset_meta.jsonl\"\n",
    "\n",
    "with open(GPT4_1_path, 'r') as f:\n",
    "    GPT4_1_outputs = [json.loads(line) for line in f]\n",
    "\n",
    "with open(gold_path, 'r') as f:\n",
    "    Gold = [json.loads(line) for line in f]\n",
    "\n"
   ]
  },
  {
   "cell_type": "code",
   "execution_count": 6,
   "id": "a7ab985f",
   "metadata": {},
   "outputs": [],
   "source": [
    "\n",
    "with open(\"GPT_result.json\", \"w\") as outfile:\n",
    "    json.dump(eval_result(GPT4_1_outputs, Gold), outfile, indent=4, ensure_ascii=False)\n",
    "with open(\"base_result.json\", \"w\") as outfile:\n",
    "    json.dump(eval_result(base_model_outputs, Gold), outfile, indent=4, ensure_ascii=False)\n",
    "with open(\"trained_result.json\", \"w\") as outfile:\n",
    "    json.dump(eval_result(trained_model_outputs, Gold), outfile, indent=4, ensure_ascii=False)\n"
   ]
  },
  {
   "cell_type": "code",
   "execution_count": null,
   "id": "7eebd898",
   "metadata": {},
   "outputs": [],
   "source": [
    "from evaluation import analyze_tcq_relation_metrics\n",
    "# Further analysis of the TCQ relation metrics, not inluded in the paper\n",
    "# 1) sample 3 output in CQ generation \n",
    "all_generated_tcqs = [\n",
    "    [ entry[\"generated_outputs\"].get(str(i), \"\") for i in range(3) ]\n",
    "    for entry in base_model_outputs\n",
    "]\n",
    "\n",
    "# 2) metric calculation\n",
    "metrics = analyze_tcq_relation_metrics(all_generated_tcqs, Gold)\n",
    "\n",
    "# 3) save the metrics\n",
    "with open(\"Base_tcq_relation_metrics.json\", \"w\", encoding=\"utf-8\") as out:\n",
    "    json.dump(metrics, out, ensure_ascii=False, indent=4)"
   ]
  },
  {
   "cell_type": "code",
   "execution_count": null,
   "id": "c4d8997f",
   "metadata": {},
   "outputs": [],
   "source": [
    "import json\n",
    "# unseen ontology experiment\n",
    "unseen_path = \"unseen ontology/Pizza/trained_outputs.jsonl\" \n",
    "unseen_gold_path = \"unseen ontology/Pizza/test_dataset_meta.jsonl\"\n",
    "with open(unseen_path, 'r') as f:\n",
    "    unseen_gen_outputs = [json.loads(line) for line in f]\n",
    "with open(unseen_gold_path, 'r') as f:\n",
    "    unseen_Gold = [json.loads(line) for line in f]\n",
    "with open(\"unseen_Pizza_result.json\", \"w\") as outfile:\n",
    "    json.dump(eval_result(unseen_gen_outputs, unseen_Gold), outfile, indent=4, ensure_ascii=False)"
   ]
  },
  {
   "cell_type": "code",
   "execution_count": null,
   "id": "eb16c32b",
   "metadata": {},
   "outputs": [],
   "source": []
  }
 ],
 "metadata": {
  "kernelspec": {
   "display_name": "hyojun_LLM",
   "language": "python",
   "name": "python3"
  },
  "language_info": {
   "codemirror_mode": {
    "name": "ipython",
    "version": 3
   },
   "file_extension": ".py",
   "mimetype": "text/x-python",
   "name": "python",
   "nbconvert_exporter": "python",
   "pygments_lexer": "ipython3",
   "version": "3.10.14"
  }
 },
 "nbformat": 4,
 "nbformat_minor": 5
}
