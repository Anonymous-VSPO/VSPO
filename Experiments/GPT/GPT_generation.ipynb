{
 "cells": [
  {
   "cell_type": "code",
   "execution_count": null,
   "id": "dd620f56",
   "metadata": {},
   "outputs": [],
   "source": [
    "def init_template(input):\n",
    "    return {\n",
    "    \"custom_id\": None, \n",
    "    \"method\": \"POST\", \n",
    "    \"url\": \"/v1/chat/completions\",\n",
    "    \"body\": {\"model\": \"gpt-4.1\", \n",
    "             \"messages\": \n",
    "                 [\n",
    "                   {\"role\": \"user\", \"content\": f\"{input}\"},\n",
    "                  ],\n",
    "             \"max_tokens\": 512 \n",
    "             }\n",
    "    }"
   ]
  },
  {
   "cell_type": "code",
   "execution_count": 2,
   "id": "fa0557a0",
   "metadata": {},
   "outputs": [],
   "source": [
    "import json\n",
    "\n",
    "# Load data from Final_test_dataset.jsonl\n",
    "with open(\"test_dataset.jsonl\", \"r\") as file:\n",
    "    test_dataset = [json.loads(line) for line in file]\n",
    "\n",
    "with open(\"test_dataset_meta.jsonl\", \"r\") as file:\n",
    "    test_meta = [json.loads(line) for line in file]\n",
    "batches = []\n",
    "for i, data in enumerate(test_dataset):\n",
    "    input_text = data[\"input\"]\n",
    "    batch = init_template(input_text)\n",
    "    batch.update({\"custom_id\": f\"{test_meta[i]['ontology']}_{test_meta[i]['class']}\"})\n",
    "    batches.append(batch)\n",
    "with open(\"GPT_input.jsonl\", 'w', encoding='utf-8') as file:\n",
    "        for item in batches:\n",
    "            json_string = json.dumps(item, ensure_ascii=False)\n",
    "            file.write(json_string + '\\n')"
   ]
  },
  {
   "cell_type": "code",
   "execution_count": null,
   "id": "7017deb4",
   "metadata": {},
   "outputs": [
    {
     "data": {
      "text/plain": [
       "Batch(id='batch_681c3c1765488190bf2474a7118f19f9', completion_window='24h', created_at=1746680855, endpoint='/v1/chat/completions', input_file_id='file-PBZxp5eVP3y87snhciDD5r', object='batch', status='validating', cancelled_at=None, cancelling_at=None, completed_at=None, error_file_id=None, errors=None, expired_at=None, expires_at=1746767255, failed_at=None, finalizing_at=None, in_progress_at=None, metadata=None, output_file_id=None, request_counts=BatchRequestCounts(completed=0, failed=0, total=0))"
      ]
     },
     "execution_count": 3,
     "metadata": {},
     "output_type": "execute_result"
    }
   ],
   "source": [
    "from openai import OpenAI\n",
    "import time\n",
    "client = OpenAI(api_key=\"\")\n",
    "\n",
    "\n",
    "with open(\"GPT_input.jsonl\", \"rb\") as file:\n",
    "  batch_input_file = client.files.create(\n",
    "    file=file, \n",
    "    purpose=\"batch\"\n",
    "  )\n",
    "batch_input_file_id = batch_input_file.id\n",
    "\n",
    "# Create a batch job\n",
    "client.batches.create(\n",
    "  input_file_id=batch_input_file_id,\n",
    "  endpoint=\"/v1/chat/completions\",\n",
    "  completion_window=\"24h\", \n",
    "        )\n"
   ]
  },
  {
   "cell_type": "code",
   "execution_count": null,
   "id": "0a20b958",
   "metadata": {},
   "outputs": [],
   "source": []
  }
 ],
 "metadata": {
  "kernelspec": {
   "display_name": "hyojun_LLM",
   "language": "python",
   "name": "python3"
  },
  "language_info": {
   "codemirror_mode": {
    "name": "ipython",
    "version": 3
   },
   "file_extension": ".py",
   "mimetype": "text/x-python",
   "name": "python",
   "nbconvert_exporter": "python",
   "pygments_lexer": "ipython3",
   "version": "3.10.14"
  }
 },
 "nbformat": 4,
 "nbformat_minor": 5
}
